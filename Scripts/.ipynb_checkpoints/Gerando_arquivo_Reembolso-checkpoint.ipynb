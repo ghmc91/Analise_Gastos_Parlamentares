{
 "cells": [
  {
   "cell_type": "code",
   "execution_count": 1,
   "metadata": {},
   "outputs": [],
   "source": [
    "import csv\n",
    "import os\n",
    "import pandas as pd\n",
    "from glob import glob\n",
    "import sys"
   ]
  },
  {
   "cell_type": "code",
   "execution_count": 3,
   "metadata": {},
   "outputs": [
    {
     "name": "stdout",
     "output_type": "stream",
     "text": [
      "Deseja retirar a primeira linha (Títulos) a partir do segundo arquivo? (s/n) s\n",
      "Foram juntados 3 arquivos e um total de 1154341 linhas.\n"
     ]
    }
   ],
   "source": [
    "def main():\n",
    "    \n",
    "    # --- Pergunta de deseja que retire a primeira linha ---\n",
    "    while True:\n",
    "        os.system('clear')\n",
    "        opcao = input(\"Deseja retirar a primeira linha (Títulos) a partir do segundo arquivo? (s/n) \")\n",
    "\n",
    "        if opcao.lower() == \"s\":\n",
    "            titulo = False\n",
    "            break\n",
    "\n",
    "        if opcao.lower() == \"n\":\n",
    "            titulo = True\n",
    "            break\n",
    "\n",
    "    # --- Variáveis de controle para saber quantos arquivos e linhas foram juntadas ---\n",
    "    qtdArquivos = 0;\n",
    "    qtdLinhas = 0;\n",
    "\n",
    "    # --- Cria o arquivo que vai juntar todos os arquivos CSV ---\n",
    "    with open(\"reembolso.csv\", \"a\") as arquivo:\n",
    "        # --- Lê todos os arquivos CSV da pasta e joga no arquivo criado ---\n",
    "        for arquivoCSV in glob(\"Despesas/*.csv\"):\n",
    "            qtdArquivos += 1\n",
    "            primeiraLinha = True\n",
    "            for linha in open(arquivoCSV, \"r\"):\n",
    "                if not titulo and qtdArquivos > 1 and primeiraLinha:\n",
    "                    primeiraLinha = False\n",
    "                    continue\n",
    "                qtdLinhas += 1\n",
    "                arquivo.write(linha)\n",
    "                arquivo.close()\n",
    "\n",
    "    # --- Mensagem de saída ---\n",
    "    os.system('clear')\n",
    "    print(\"Foram juntados \"+ str(qtdArquivos) +\" arquivos e um total de \"+ str(qtdLinhas) +\" linhas.\")\n",
    "\n",
    "if __name__ == \"__main__\":\n",
    "    main()"
   ]
  },
  {
   "cell_type": "code",
   "execution_count": null,
   "metadata": {},
   "outputs": [],
   "source": []
  },
  {
   "cell_type": "code",
   "execution_count": 8,
   "metadata": {},
   "outputs": [
    {
     "ename": "TypeError",
     "evalue": "parser_f() got an unexpected keyword argument 'sel'",
     "output_type": "error",
     "traceback": [
      "\u001b[0;31m---------------------------------------------------------------------------\u001b[0m",
      "\u001b[0;31mTypeError\u001b[0m                                 Traceback (most recent call last)",
      "\u001b[0;32m<ipython-input-8-77f0fc21aaff>\u001b[0m in \u001b[0;36m<module>\u001b[0;34m\u001b[0m\n\u001b[0;32m----> 1\u001b[0;31m \u001b[0mx\u001b[0m \u001b[0;34m=\u001b[0m \u001b[0mpd\u001b[0m\u001b[0;34m.\u001b[0m\u001b[0mread_csv\u001b[0m\u001b[0;34m(\u001b[0m\u001b[0;34m\"reembolso.csv\"\u001b[0m\u001b[0;34m,\u001b[0m \u001b[0merror_bad_lines\u001b[0m\u001b[0;34m=\u001b[0m\u001b[0;32mFalse\u001b[0m\u001b[0;34m,\u001b[0m \u001b[0msel\u001b[0m\u001b[0;34m=\u001b[0m\u001b[0;34m';'\u001b[0m\u001b[0;34m)\u001b[0m\u001b[0;34m\u001b[0m\u001b[0m\n\u001b[0m\u001b[1;32m      2\u001b[0m \u001b[0mx\u001b[0m\u001b[0;34m.\u001b[0m\u001b[0mhead\u001b[0m\u001b[0;34m(\u001b[0m\u001b[0;34m)\u001b[0m\u001b[0;34m\u001b[0m\u001b[0m\n",
      "\u001b[0;31mTypeError\u001b[0m: parser_f() got an unexpected keyword argument 'sel'"
     ]
    }
   ],
   "source": [
    "x = pd.read_csv(\"reembolso.csv\", error_bad_lines=False, sel=';')\n",
    "x.head()"
   ]
  }
 ],
 "metadata": {
  "kernelspec": {
   "display_name": "Python 3",
   "language": "python",
   "name": "python3"
  },
  "language_info": {
   "codemirror_mode": {
    "name": "ipython",
    "version": 3
   },
   "file_extension": ".py",
   "mimetype": "text/x-python",
   "name": "python",
   "nbconvert_exporter": "python",
   "pygments_lexer": "ipython3",
   "version": "3.6.3"
  }
 },
 "nbformat": 4,
 "nbformat_minor": 2
}
