{
 "cells": [
  {
   "cell_type": "code",
   "execution_count": 1,
   "metadata": {},
   "outputs": [],
   "source": [
    "import pandas as pd\n",
    "import matplotlib.pyplot as plt\n",
    "import networkx as nx\n",
    "import itertools as it"
   ]
  },
  {
   "cell_type": "code",
   "execution_count": 3,
   "metadata": {},
   "outputs": [],
   "source": [
    "df = pd.DataFrame({'id_emp': [1,2,3,4,1], \n",
    "                   'name_emp': ['x','y','z','w','x'], \n",
    "                   'donnated_value':[1100,11000,500,300,1000],\n",
    "                   'refound_value':[22000,22000,50000,450,90]\n",
    "                })"
   ]
  },
  {
   "cell_type": "code",
   "execution_count": 4,
   "metadata": {},
   "outputs": [],
   "source": [
    "df['return_percentagem'] = 100 * df['refound_value']/df['donnated_value']\n",
    "df['classification_roi'] = ''"
   ]
  },
  {
   "cell_type": "code",
   "execution_count": 9,
   "metadata": {},
   "outputs": [
    {
     "data": {
      "text/html": [
       "<div>\n",
       "<style scoped>\n",
       "    .dataframe tbody tr th:only-of-type {\n",
       "        vertical-align: middle;\n",
       "    }\n",
       "\n",
       "    .dataframe tbody tr th {\n",
       "        vertical-align: top;\n",
       "    }\n",
       "\n",
       "    .dataframe thead th {\n",
       "        text-align: right;\n",
       "    }\n",
       "</style>\n",
       "<table border=\"1\" class=\"dataframe\">\n",
       "  <thead>\n",
       "    <tr style=\"text-align: right;\">\n",
       "      <th></th>\n",
       "      <th>id_emp</th>\n",
       "      <th>name_emp</th>\n",
       "      <th>donnated_value</th>\n",
       "      <th>refound_value</th>\n",
       "      <th>return_percentagem</th>\n",
       "      <th>classification_roi</th>\n",
       "    </tr>\n",
       "  </thead>\n",
       "  <tbody>\n",
       "    <tr>\n",
       "      <th>0</th>\n",
       "      <td>1</td>\n",
       "      <td>x</td>\n",
       "      <td>1100</td>\n",
       "      <td>22000</td>\n",
       "      <td>2000.0</td>\n",
       "      <td>Good Investment</td>\n",
       "    </tr>\n",
       "    <tr>\n",
       "      <th>1</th>\n",
       "      <td>2</td>\n",
       "      <td>y</td>\n",
       "      <td>11000</td>\n",
       "      <td>22000</td>\n",
       "      <td>200.0</td>\n",
       "      <td>Good Investment</td>\n",
       "    </tr>\n",
       "    <tr>\n",
       "      <th>2</th>\n",
       "      <td>3</td>\n",
       "      <td>z</td>\n",
       "      <td>500</td>\n",
       "      <td>50000</td>\n",
       "      <td>10000.0</td>\n",
       "      <td>Good Investment</td>\n",
       "    </tr>\n",
       "    <tr>\n",
       "      <th>3</th>\n",
       "      <td>4</td>\n",
       "      <td>w</td>\n",
       "      <td>300</td>\n",
       "      <td>450</td>\n",
       "      <td>150.0</td>\n",
       "      <td>Good Investment</td>\n",
       "    </tr>\n",
       "    <tr>\n",
       "      <th>4</th>\n",
       "      <td>1</td>\n",
       "      <td>x</td>\n",
       "      <td>1000</td>\n",
       "      <td>90</td>\n",
       "      <td>9.0</td>\n",
       "      <td>Bad Investment</td>\n",
       "    </tr>\n",
       "  </tbody>\n",
       "</table>\n",
       "</div>"
      ],
      "text/plain": [
       "   id_emp name_emp  donnated_value  refound_value  return_percentagem  \\\n",
       "0       1        x            1100          22000              2000.0   \n",
       "1       2        y           11000          22000               200.0   \n",
       "2       3        z             500          50000             10000.0   \n",
       "3       4        w             300            450               150.0   \n",
       "4       1        x            1000             90                 9.0   \n",
       "\n",
       "  classification_roi  \n",
       "0    Good Investment  \n",
       "1    Good Investment  \n",
       "2    Good Investment  \n",
       "3    Good Investment  \n",
       "4     Bad Investment  "
      ]
     },
     "execution_count": 9,
     "metadata": {},
     "output_type": "execute_result"
    }
   ],
   "source": [
    "df"
   ]
  },
  {
   "cell_type": "code",
   "execution_count": 5,
   "metadata": {},
   "outputs": [],
   "source": [
    "def comunidade(i):\n",
    "        \n",
    "        if i < 50:\n",
    "            return 'Bad Investment'\n",
    "        elif i >=50 and i < 100:\n",
    "            return 'Median Investment'\n",
    "        elif i >= 100:\n",
    "            return 'Good Investment'\n",
    "\n",
    "df['classification_roi'] = df['return_percentagem'].map(comunidade)\n"
   ]
  },
  {
   "cell_type": "code",
   "execution_count": 6,
   "metadata": {},
   "outputs": [],
   "source": [
    "G = nx.Graph()\n",
    "G.add_nodes_from([a for a in df.index])\n",
    "for ie in set(df['id_emp']):\n",
    "    indices = df[df['id_emp']==ie].index\n",
    "    G.add_edges_from(it.product(indices,indices))"
   ]
  },
  {
   "cell_type": "code",
   "execution_count": 7,
   "metadata": {},
   "outputs": [],
   "source": [
    "for c in set(df['classification_roi']):\n",
    "    indices = df[df['classification_roi']==c].index\n",
    "    G.add_edges_from(it.product(indices,indices))"
   ]
  },
  {
   "cell_type": "code",
   "execution_count": 8,
   "metadata": {},
   "outputs": [
    {
     "data": {
      "image/png": "[encoded data removed]",
      "text/plain": [
       "<Figure size 432x288 with 1 Axes>"
      ]
     },
     "metadata": {},
     "output_type": "display_data"
    }
   ],
   "source": [
    "plt.subplot(121)\n",
    "plt.title('Colorido por classification_roi')\n",
    "color_mapping = {'Bad Investment':0,\n",
    "                 'Median Investment': 1,\n",
    "                 'Good Investment': 2}\n",
    "nx.draw(G, node_color = df['classification_roi'].replace(color_mapping), cmap = 'RdYlBu', with_labels=True)"
   ]
  },
  {
   "cell_type": "code",
   "execution_count": 2,
   "metadata": {},
   "outputs": [],
   "source": [
    "df = pd.DataFrame({'valor_doado_escala': [2.185669e-06,3.060221e-05,1.311530e-04,\n",
    "2.213954e-05, 2.185669e-06]})"
   ]
  },
  {
   "cell_type": "code",
   "execution_count": 4,
   "metadata": {},
   "outputs": [],
   "source": [
    "df = pd.DataFrame({'id_emp':[13524791000109, 12053850000137, 4707821000113],\n",
    "                  'name_emp': ['JL Consultores', 'GRAAL OURINHOS','SOJA COMERCIO DE DERIVADOS DE PETROLEO LTDA'],\n",
    "                  'name_dep': ['DIONILSO MATEUS MARCON', 'JOSE AUGUSTO ROSA', 'LUCIO ANTONIO MOSQUINI'],\n",
    "                  'donnated_value': [ 750.00, 5000.00, 27350.00],\n",
    "                  'donnated_amount': [1,1,1],\n",
    "                  'reimbursed_value':[36000.00,410.55, 241.22],\n",
    "                  'amount_reimbursed': [1,2,1],\n",
    "                  'roi':[4800.00, 8.21,0.88]\n",
    "                  })"
   ]
  },
  {
   "cell_type": "code",
   "execution_count": 12,
   "metadata": {},
   "outputs": [
    {
     "data": {
      "image/png": "[encoded data removed]",
      "text/plain": [
       "<Figure size 432x288 with 1 Axes>"
      ]
     },
     "metadata": {},
     "output_type": "display_data"
    }
   ],
   "source": [
    "G = nx.Graph()\n",
    "deputado = 'DIONILSO MATEUS MARCON'\n",
    "lista_subset_graph = list(df[df[\"name_dep\"] == deputado][\"id_emp\"]) + [deputado]\n",
    "H = G.subgraph(lista_subset_graph)\n",
    "nx.draw(H, style = \"solid\", with_labels = True)\n",
    "plt.savefig(\"teste.png\")  # save as png\n",
    "plt.show()  # display"
   ]
  },
  {
   "cell_type": "code",
   "execution_count": 9,
   "metadata": {},
   "outputs": [
    {
     "data": {
      "text/html": [
       "<div>\n",
       "<style scoped>\n",
       "    .dataframe tbody tr th:only-of-type {\n",
       "        vertical-align: middle;\n",
       "    }\n",
       "\n",
       "    .dataframe tbody tr th {\n",
       "        vertical-align: top;\n",
       "    }\n",
       "\n",
       "    .dataframe thead th {\n",
       "        text-align: right;\n",
       "    }\n",
       "</style>\n",
       "<table border=\"1\" class=\"dataframe\">\n",
       "  <thead>\n",
       "    <tr style=\"text-align: right;\">\n",
       "      <th></th>\n",
       "      <th>id_emp</th>\n",
       "      <th>name_emp</th>\n",
       "      <th>name_dep</th>\n",
       "      <th>donnated_value</th>\n",
       "      <th>donnated_amount</th>\n",
       "      <th>reimbursed_value</th>\n",
       "      <th>amount_reimbursed</th>\n",
       "      <th>roi</th>\n",
       "    </tr>\n",
       "  </thead>\n",
       "  <tbody>\n",
       "    <tr>\n",
       "      <th>0</th>\n",
       "      <td>13524791000109</td>\n",
       "      <td>JL Consultores</td>\n",
       "      <td>DIONILSO MATEUS MARCON</td>\n",
       "      <td>750.0</td>\n",
       "      <td>1</td>\n",
       "      <td>36000.00</td>\n",
       "      <td>1</td>\n",
       "      <td>4800.00</td>\n",
       "    </tr>\n",
       "    <tr>\n",
       "      <th>1</th>\n",
       "      <td>12053850000137</td>\n",
       "      <td>GRAAL OURINHOS</td>\n",
       "      <td>JOSE AUGUSTO ROSA</td>\n",
       "      <td>5000.0</td>\n",
       "      <td>1</td>\n",
       "      <td>410.55</td>\n",
       "      <td>2</td>\n",
       "      <td>8.21</td>\n",
       "    </tr>\n",
       "    <tr>\n",
       "      <th>2</th>\n",
       "      <td>4707821000113</td>\n",
       "      <td>SOJA COMERCIO DE DERIVADOS DE PETROLEO LTDA</td>\n",
       "      <td>LUCIO ANTONIO MOSQUINI</td>\n",
       "      <td>27350.0</td>\n",
       "      <td>1</td>\n",
       "      <td>241.22</td>\n",
       "      <td>1</td>\n",
       "      <td>0.88</td>\n",
       "    </tr>\n",
       "  </tbody>\n",
       "</table>\n",
       "</div>"
      ],
      "text/plain": [
       "           id_emp                                     name_emp  \\\n",
       "0  13524791000109                               JL Consultores   \n",
       "1  12053850000137                               GRAAL OURINHOS   \n",
       "2   4707821000113  SOJA COMERCIO DE DERIVADOS DE PETROLEO LTDA   \n",
       "\n",
       "                 name_dep  donnated_value  donnated_amount  reimbursed_value  \\\n",
       "0  DIONILSO MATEUS MARCON           750.0                1          36000.00   \n",
       "1       JOSE AUGUSTO ROSA          5000.0                1            410.55   \n",
       "2  LUCIO ANTONIO MOSQUINI         27350.0                1            241.22   \n",
       "\n",
       "   amount_reimbursed      roi  \n",
       "0                  1  4800.00  \n",
       "1                  2     8.21  \n",
       "2                  1     0.88  "
      ]
     },
     "execution_count": 9,
     "metadata": {},
     "output_type": "execute_result"
    }
   ],
   "source": [
    "df"
   ]
  }
 ],
 "metadata": {
  "kernelspec": {
   "display_name": "Python 3",
   "language": "python",
   "name": "python3"
  },
  "language_info": {
   "codemirror_mode": {
    "name": "ipython",
    "version": 3
   },
   "file_extension": ".py",
   "mimetype": "text/x-python",
   "name": "python",
   "nbconvert_exporter": "python",
   "pygments_lexer": "ipython3",
   "version": "3.6.5"
  }
 },
 "nbformat": 4,
 "nbformat_minor": 2
}
