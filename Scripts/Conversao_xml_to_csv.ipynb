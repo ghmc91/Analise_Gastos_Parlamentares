{
 "cells": [
  {
   "cell_type": "code",
   "execution_count": 1,
   "metadata": {},
   "outputs": [],
   "source": [
    "import xml.etree.ElementTree as ET\n",
    "from lxml import objectify\n",
    "import csv\n",
    "\n",
    "file_xml = open(\"/home/gustavo/Downloads/Redes/Despesas/AnoAnterior.xml\", 'r')\n",
    "ano_anterior = open('/home/gustavo/Downloads/Redes/Despesas/AnoAnterior.csv', 'w')\n",
    "xml_string = file_xml.read()\n",
    "xml_object = objectify.fromstring(xml_string)\n",
    "csvwriter = csv.writer(ano_anterior, delimiter=',',lineterminator = '\\n')\n",
    "count = 0"
   ]
  },
  {
   "cell_type": "code",
   "execution_count": 4,
   "metadata": {},
   "outputs": [],
   "source": [
    "for member in xml_object.dados.despesa:\n",
    "    \n",
    "    if count == 0:\n",
    "        csvwriter.writerow([member.nomeParlamentar.tag, member.idDeputado.tag,member.numeroCarteiraParlamentar.tag,\n",
    "                           member.legislatura.tag, member.siglaUF.tag, member.siglaPartido.tag, \n",
    "                           member.codigoLegislatura.tag, member.numeroSubCota.tag, member.descricao.tag,\n",
    "                           member.numeroEspecificacaoSubCota.tag, member.descricaoEspecificacao.tag,\n",
    "                           member.fornecedor.tag, member.cnpjCPF.tag, member.numero.tag, \n",
    "                           member.tipoDocumento.tag, member.dataEmissao.tag, member.valorDocumento.tag,\n",
    "                           member.valorGlosa.tag, member.valorLiquido.tag, member.mes.tag, \n",
    "                           member.ano.tag, member.parcela.tag, member.passageiro.tag, member.trecho.tag, \n",
    "                           member.lote.tag, member.ressarcimento.tag, member.restituicao.tag, member.numeroDeputadoID.tag, \n",
    "                           member.idDocumento.tag])\n",
    "    \n",
    "    csvwriter.writerow([member.nomeParlamentar.text, member.idDeputado.text, member.numeroCarteiraParlamentar.text,\n",
    "                           member.legislatura.text, member.siglaUF.text, member.siglaPartido.text, \n",
    "                           member.codigoLegislatura.text, member.numeroSubCota.text, member.descricao.text.replace(\",\",\"\"),\n",
    "                           member.numeroEspecificacaoSubCota.text, member.descricaoEspecificacao.text,\n",
    "                           member.fornecedor.text, member.cnpjCPF.text, member.numero.text, \n",
    "                           member.tipoDocumento.text, member.dataEmissao.text, member.valorDocumento.text,\n",
    "                           member.valorGlosa.text, member.valorLiquido.text, member.mes.text, \n",
    "                           member.ano.text, member.parcela.text, member.passageiro.text, member.trecho.text, \n",
    "                           member.lote.text, member.ressarcimento.text, member.restituicao.text, \n",
    "                           member.numeroDeputadoID.text, member.idDocumento.text])\n",
    "    count += 1\n",
    "    \n",
    "ano_anterior.close()\n"
   ]
  }
 ],
 "metadata": {
  "kernelspec": {
   "display_name": "Python 3",
   "language": "python",
   "name": "python3"
  },
  "language_info": {
   "codemirror_mode": {
    "name": "ipython",
    "version": 3
   },
   "file_extension": ".py",
   "mimetype": "text/x-python",
   "name": "python",
   "nbconvert_exporter": "python",
   "pygments_lexer": "ipython3",
   "version": "3.6.5"
  }
 },
 "nbformat": 4,
 "nbformat_minor": 2
}
